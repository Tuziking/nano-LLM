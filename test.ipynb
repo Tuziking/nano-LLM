{
 "cells": [
  {
   "cell_type": "code",
   "execution_count": 2,
   "metadata": {},
   "outputs": [
    {
     "name": "stdout",
     "output_type": "stream",
     "text": [
      "Domain: Healthcare\n",
      "Subdomain: Medical Treatment\n",
      "Format Name: Prescription Report (Prescription Format)\n",
      "\n",
      "Please generate a JSON file to record the patient’s prescription information. This patient is a 55-year-old patient diagnosed with Type 2 Diabetes Mellitus and Hypertension.\n",
      "The file must include the following fields:\n",
      "\n",
      "1. Patient Information:\n",
      "   - Full Name: Patient’s full name\n",
      "   - Age: Patient’s age\n",
      "   - Sex: Patient’s gender\n",
      "   - Weight: Patient’s body weight\n",
      "   - Height: Patient’s body height\n",
      "   - Allergies: Patient’s known allergies\n",
      "\n",
      "2. Diagnosis:\n",
      "   - Primary Diagnosis: The main medical diagnosis\n",
      "   - Secondary Diagnosis: The secondary or additional diagnosis\n",
      "\n",
      "3. Prescription Date: The date when the prescription is issued\n",
      "\n",
      "4. Medications: An array containing each prescribed medication, with the following details:\n",
      "   - Generic Name: The generic name of the medication\n",
      "   - Brand Name: The brand name of the medication (if applicable)\n",
      "   - Strength: The dosage strength of the medication\n",
      "   - Form: The dosage form (e.g., tablet, capsule, injection)\n",
      "   - Dosage: The amount of medication per administration\n",
      "   - Administration route: The route of administration (e.g., oral, IV)\n",
      "   - Frequency and Duration: The frequency of intake and total duration\n",
      "   - Special Instructions: Any specific instructions for the medication\n",
      "\n",
      "5. Lifestyle Recommendations: At least three lifestyle recommendations relevant to the diagnosis\n",
      "\n",
      "6. Lab Tests: A list of laboratory tests required before the next visit\n",
      "\n",
      "7. Refills: The number of refills allowed for each medication\n",
      "\n",
      "8. Physician Information:\n",
      "   - Full Name: Physician’s full name\n",
      "   - Medical License Number: Physician’s license number\n",
      "   - Specialty: Physician’s medical specialty\n",
      "   - Contact Number: Physician’s contact information\n",
      "   - Clinic Address: The address of the clinic\n",
      "\n",
      "9. Follow-up:\n",
      "   - Date and Time: The date and time of the next appointment (if applicable)\n"
     ]
    }
   ],
   "source": [
    "ins_str = \"Domain: Healthcare\\nSubdomain: Medical Treatment\\nFormat Name: Prescription Report (Prescription Format)\\n\\nPlease generate a JSON file to record the patient’s prescription information. This patient is a 55-year-old patient diagnosed with Type 2 Diabetes Mellitus and Hypertension.\\nThe file must include the following fields:\\n\\n1. Patient Information:\\n   - Full Name: Patient’s full name\\n   - Age: Patient’s age\\n   - Sex: Patient’s gender\\n   - Weight: Patient’s body weight\\n   - Height: Patient’s body height\\n   - Allergies: Patient’s known allergies\\n\\n2. Diagnosis:\\n   - Primary Diagnosis: The main medical diagnosis\\n   - Secondary Diagnosis: The secondary or additional diagnosis\\n\\n3. Prescription Date: The date when the prescription is issued\\n\\n4. Medications: An array containing each prescribed medication, with the following details:\\n   - Generic Name: The generic name of the medication\\n   - Brand Name: The brand name of the medication (if applicable)\\n   - Strength: The dosage strength of the medication\\n   - Form: The dosage form (e.g., tablet, capsule, injection)\\n   - Dosage: The amount of medication per administration\\n   - Administration route: The route of administration (e.g., oral, IV)\\n   - Frequency and Duration: The frequency of intake and total duration\\n   - Special Instructions: Any specific instructions for the medication\\n\\n5. Lifestyle Recommendations: At least three lifestyle recommendations relevant to the diagnosis\\n\\n6. Lab Tests: A list of laboratory tests required before the next visit\\n\\n7. Refills: The number of refills allowed for each medication\\n\\n8. Physician Information:\\n   - Full Name: Physician’s full name\\n   - Medical License Number: Physician’s license number\\n   - Specialty: Physician’s medical specialty\\n   - Contact Number: Physician’s contact information\\n   - Clinic Address: The address of the clinic\\n\\n9. Follow-up:\\n   - Date and Time: The date and time of the next appointment (if applicable)\"\n",
    "print(ins_str)\n",
    "\n"
   ]
  },
  {
   "cell_type": "code",
   "execution_count": null,
   "metadata": {},
   "outputs": [],
   "source": [
    "xml_answer_str = \"&lt;PrescriptionReport&gt;\\n  &lt;PatientInformation&gt;\\n    &lt;FullName&gt;John A. Doe&lt;/FullName&gt;\\n    &lt;Age&gt;55&lt;/Age&gt;\\n    &lt;Sex&gt;Male&lt;/Sex&gt;\\n    &lt;Weight&gt;90 kg&lt;/Weight&gt;\\n    &lt;Height&gt;175 cm&lt;/Height&gt;\\n    &lt;Allergies&gt;Penicillin&lt;/Allergies&gt;\\n  &lt;/PatientInformation&gt;\\n  &lt;Diagnosis&gt;\\n    &lt;PrimaryDiagnosis&gt;Type 2 Diabetes Mellitus&lt;/PrimaryDiagnosis&gt;\\n    &lt;SecondaryDiagnosis&gt;Hypertension&lt;/SecondaryDiagnosis&gt;\\n  &lt;/Diagnosis&gt;\\n  &lt;PrescriptionDate&gt;2025-09-10&lt;/PrescriptionDate&gt;\\n  &lt;Medications&gt;\\n    &lt;Medication&gt;\\n      &lt;GenericName&gt;Metformin&lt;/GenericName&gt;\\n      &lt;BrandName&gt;Glucophage&lt;/BrandName&gt;\\n      &lt;Strength&gt;500 mg&lt;/Strength&gt;\\n      &lt;Form&gt;Tablet&lt;/Form&gt;\\n      &lt;Dosage&gt;500 mg twice a day&lt;/Dosage&gt;\\n      &lt;AdministrationRoute&gt;Oral&lt;/AdministrationRoute&gt;\\n      &lt;FrequencyAndDuration&gt;Take with meals for 30 days&lt;/FrequencyAndDuration&gt;\\n      &lt;SpecialInstructions&gt;Take with food&lt;/SpecialInstructions&gt;\\n    &lt;/Medication&gt;\\n    &lt;Medication&gt;\\n      &lt;GenericName&gt;Lisinopril&lt;/GenericName&gt;\\n      &lt;BrandName&gt;Zestril&lt;/BrandName&gt;\\n      &lt;Strength&gt;10 mg&lt;/Strength&gt;\\n      &lt;Form&gt;Tablet&lt;/Form&gt;\\n      &lt;Dosage&gt;10 mg once a day&lt;/Dosage&gt;\\n      &lt;AdministrationRoute&gt;Oral&lt;/AdministrationRoute&gt;\\n      &lt;FrequencyAndDuration&gt;Take in the morning for 30 days&lt;/FrequencyAndDuration&gt;\\n      &lt;SpecialInstructions&gt;Take on an empty stomach&lt;/SpecialInstructions&gt;\\n    &lt;/Medication&gt;\\n  &lt;/Medications&gt;\\n  &lt;LifestyleRecommendations&gt;\\n    &lt;Recommendation&gt;Engage in 30 minutes of physical activity daily&lt;/Recommendation&gt;\\n    &lt;Recommendation&gt;Monitor blood sugar levels regularly&lt;/Recommendation&gt;\\n    &lt;Recommendation&gt;Reduce sodium and processed foods intake&lt;/Recommendation&gt;\\n  &lt;/LifestyleRecommendations&gt;\\n  &lt;LabTests&gt;\\n    &lt;Test&gt;Fasting Blood Sugar Test&lt;/Test&gt;\\n    &lt;Test&gt;Cholesterol Profile&lt;/Test&gt;\\n    &lt;Test&gt;Kidney Function Test&lt;/Test&gt;\\n  &lt;/LabTests&gt;\\n  &lt;Refills&gt;3&lt;/Refills&gt;\\n  &lt;PhysicianInformation&gt;\\n    &lt;FullName&gt;Dr. Emily R. Smith&lt;/FullName&gt;\\n    &lt;MedicalLicenseNumber&gt;123456&lt;/MedicalLicenseNumber&gt;\\n    &lt;Specialty&gt;Endocrinology&lt;/Specialty&gt;\\n    &lt;ContactNumber&gt;(555) 123-4567&lt;/ContactNumber&gt;\\n    &lt;ClinicAddress&gt;123 Healthy Way, Wellness City, HC 67890&lt;/ClinicAddress&gt;\\n  &lt;/PhysicianInformation&gt;\\n  &lt;FollowUp&gt;\\n    &lt;DateAndTime&gt;2025-10-10 10:00 AM&lt;/DateAndTime&gt;\\n  &lt;/FollowUp&gt;\\n&lt;/PrescriptionReport&gt;\"\n",
    "print(xml_answer_str)"
   ]
  },
  {
   "cell_type": "code",
   "execution_count": 3,
   "metadata": {},
   "outputs": [
    {
     "name": "stdout",
     "output_type": "stream",
     "text": [
      "Patient Information:\n",
      "  Full Name: John A. Doe\n",
      "  Age: 55\n",
      "  Sex: Male\n",
      "  Weight: 90 kg\n",
      "  Height: 175 cm\n",
      "  Allergies: Penicillin\n",
      "Diagnosis:\n",
      "  Primary Diagnosis: Type 2 Diabetes Mellitus\n",
      "  Secondary Diagnosis: Hypertension\n",
      "Prescription Date: 2025-09-10\n",
      "Medications:\n",
      "  - Generic Name: Metformin\n",
      "    Brand Name: Glucophage\n",
      "    Strength: 500 mg\n",
      "    Form: Tablet\n",
      "    Dosage: 500 mg twice a day\n",
      "    Administration route: Oral\n",
      "    Frequency and Duration: Take with meals for 30 days\n",
      "    Special Instructions: Take with food\n",
      "  - Generic Name: Lisinopril\n",
      "    Brand Name: Zestril\n",
      "    Strength: 10 mg\n",
      "    Form: Tablet\n",
      "    Dosage: 10 mg once a day\n",
      "    Administration route: Oral\n",
      "    Frequency and Duration: Take in the morning for 30 days\n",
      "    Special Instructions: Take on an empty stomach\n",
      "Lifestyle Recommendations:\n",
      "  - Engage in 30 minutes of physical activity daily\n",
      "  - Monitor blood sugar levels regularly\n",
      "  - Reduce sodium and processed foods intake\n",
      "Lab Tests:\n",
      "  - Fasting Blood Sugar Test\n",
      "  - Cholesterol Profile\n",
      "  - Kidney Function Test\n",
      "Refills: 3\n",
      "Physician Information:\n",
      "  Full Name: Dr. Emily R. Smith\n",
      "  Medical License Number: 123456\n",
      "  Specialty: Endocrinology\n",
      "  Contact Number: (555) 123-4567\n",
      "  Clinic Address: 123 Healthy Way, Wellness City, HC 67890\n",
      "Follow-up:\n",
      "  Date and Time: 2025-10-10 10:00 AM\n",
      "\n"
     ]
    }
   ],
   "source": [
    "yaml_answer_str = \"Patient Information:\\n  Full Name: John A. Doe\\n  Age: 55\\n  Sex: Male\\n  Weight: 90 kg\\n  Height: 175 cm\\n  Allergies: Penicillin\\nDiagnosis:\\n  Primary Diagnosis: Type 2 Diabetes Mellitus\\n  Secondary Diagnosis: Hypertension\\nPrescription Date: 2025-09-10\\nMedications:\\n  - Generic Name: Metformin\\n    Brand Name: Glucophage\\n    Strength: 500 mg\\n    Form: Tablet\\n    Dosage: 500 mg twice a day\\n    Administration route: Oral\\n    Frequency and Duration: Take with meals for 30 days\\n    Special Instructions: Take with food\\n  - Generic Name: Lisinopril\\n    Brand Name: Zestril\\n    Strength: 10 mg\\n    Form: Tablet\\n    Dosage: 10 mg once a day\\n    Administration route: Oral\\n    Frequency and Duration: Take in the morning for 30 days\\n    Special Instructions: Take on an empty stomach\\nLifestyle Recommendations:\\n  - Engage in 30 minutes of physical activity daily\\n  - Monitor blood sugar levels regularly\\n  - Reduce sodium and processed foods intake\\nLab Tests:\\n  - Fasting Blood Sugar Test\\n  - Cholesterol Profile\\n  - Kidney Function Test\\nRefills: 3\\nPhysician Information:\\n  Full Name: Dr. Emily R. Smith\\n  Medical License Number: 123456\\n  Specialty: Endocrinology\\n  Contact Number: (555) 123-4567\\n  Clinic Address: 123 Healthy Way, Wellness City, HC 67890\\nFollow-up:\\n  Date and Time: 2025-10-10 10:00 AM\\n\"\n",
    "print(yaml_answer_str)"
   ]
  },
  {
   "cell_type": "code",
   "execution_count": null,
   "metadata": {},
   "outputs": [],
   "source": []
  }
 ],
 "metadata": {
  "kernelspec": {
   "display_name": "nanoLLM",
   "language": "python",
   "name": "python3"
  },
  "language_info": {
   "codemirror_mode": {
    "name": "ipython",
    "version": 3
   },
   "file_extension": ".py",
   "mimetype": "text/x-python",
   "name": "python",
   "nbconvert_exporter": "python",
   "pygments_lexer": "ipython3",
   "version": "3.12.11"
  }
 },
 "nbformat": 4,
 "nbformat_minor": 2
}
